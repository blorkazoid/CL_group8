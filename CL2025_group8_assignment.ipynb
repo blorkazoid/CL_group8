{
  "cells": [
    {
      "cell_type": "markdown",
      "metadata": {
        "id": "GcbFlt0uJpNc"
      },
      "source": [
        "In this assignment you will be asked to extend the work by Gatti et al by checking whether form-meaning mappings learned on a different yet related language to that considered in the original study still capture the perceived valence of pseudowords. To do this you will be asked to engage with several different resources and adapt the pipeline following the instructions. Along the way, you will be asked to answer a few questions.\n",
        "\n",
        "You need to submit the complete notebook in .ipynb format, with intermediate outputs visible. The notebook should be named as follows:\n",
        "\n",
        "CL2025_groupN_assignment.ipynb\n",
        "\n",
        "where N is the group number. Submissions in the wrong format or with names not adhering to the guidelines will not be evaluated."
      ]
    },
    {
      "cell_type": "markdown",
      "metadata": {
        "id": "6rkN7t4rqacE"
      },
      "source": [
        "Indicate group members' names, student numbers, and contributions below:\n",
        "- 1.\n",
        "- 2.\n",
        "- 3.\n",
        "- 4.\n",
        "- 5."
      ]
    },
    {
      "cell_type": "markdown",
      "metadata": {
        "id": "_Z_WEj_70sxz"
      },
      "source": [
        "I suggest that we use \"##\" for comments instead, to distinguish between our and the original comments, but idk if there is any standard for this -Frey"
      ]
    },
    {
      "cell_type": "markdown",
      "metadata": {
        "id": "SZ9jzt3t0zgS"
      },
      "source": [
        "To do:\n",
        "- get everyone setup and comfortable with git(hub)\n",
        "- check if frey found the correct files"
      ]
    },
    {
      "cell_type": "code",
      "execution_count": null,
      "metadata": {
        "colab": {
          "base_uri": "https://localhost:8080/"
        },
        "collapsed": true,
        "id": "OQbS5Urfit8W",
        "outputId": "6fb09970-dffd-4ddf-9ac7-01f4c21b4506"
      },
      "outputs": [
        {
          "name": "stdout",
          "output_type": "stream",
          "text": [
            "[WinError 2] The system cannot find the file specified: 'psycho-embeddings'\n",
            "c:\\Users\\etrus\\Documents\\CSAI\\year3\\CL\\CL_group8\n"
          ]
        }
      ],
      "source": [
        "## This block has been modified to work for local usage \n",
        "\n",
        "# the code has been tested using the psycho-embeddings library to extract representations from LLMs. You can also use other libraries,\n",
        "# as long as you make sure that you are producing the correct output.\n",
        "\n",
        "## SETUP:\n",
        "## Make sure you have Git and Pip installed then run the following commands in the command line (make sure you are an administrator of course)\n",
        "\n",
        "## git clone https://github.com/MilaNLProc/psycho-embeddings.git\n",
        "## pip install datasets\n",
        "## pip install fasttext\n",
        "## pip install nltk\n",
        "%cd psycho-embeddings"
      ]
    },
    {
      "cell_type": "code",
      "execution_count": 9,
      "metadata": {
        "colab": {
          "base_uri": "https://localhost:8080/"
        },
        "id": "ofb0L_c0AW0W",
        "outputId": "78493c74-496d-4c98-b64d-6d7ba279c475"
      },
      "outputs": [
        {
          "ename": "ModuleNotFoundError",
          "evalue": "No module named 'fasttext'",
          "output_type": "error",
          "traceback": [
            "\u001b[1;31m---------------------------------------------------------------------------\u001b[0m",
            "\u001b[1;31mModuleNotFoundError\u001b[0m                       Traceback (most recent call last)",
            "\u001b[1;32m~\\AppData\\Local\\Temp\\ipykernel_14724\\2043435508.py\u001b[0m in \u001b[0;36m<module>\u001b[1;34m\u001b[0m\n\u001b[0;32m      4\u001b[0m \u001b[1;32mimport\u001b[0m \u001b[0mnumpy\u001b[0m \u001b[1;32mas\u001b[0m \u001b[0mnp\u001b[0m\u001b[1;33m\u001b[0m\u001b[1;33m\u001b[0m\u001b[0m\n\u001b[0;32m      5\u001b[0m \u001b[1;32mimport\u001b[0m \u001b[0mpandas\u001b[0m \u001b[1;32mas\u001b[0m \u001b[0mpd\u001b[0m\u001b[1;33m\u001b[0m\u001b[1;33m\u001b[0m\u001b[0m\n\u001b[1;32m----> 6\u001b[1;33m \u001b[1;32mimport\u001b[0m \u001b[0mfasttext\u001b[0m \u001b[1;32mas\u001b[0m \u001b[0mft\u001b[0m\u001b[1;33m\u001b[0m\u001b[1;33m\u001b[0m\u001b[0m\n\u001b[0m\u001b[0;32m      7\u001b[0m \u001b[1;32mimport\u001b[0m \u001b[0mpickle\u001b[0m \u001b[1;32mas\u001b[0m \u001b[0mpkl\u001b[0m\u001b[1;33m\u001b[0m\u001b[1;33m\u001b[0m\u001b[0m\n\u001b[0;32m      8\u001b[0m \u001b[1;32mimport\u001b[0m \u001b[0mfasttext\u001b[0m\u001b[1;33m.\u001b[0m\u001b[0mutil\u001b[0m\u001b[1;33m\u001b[0m\u001b[1;33m\u001b[0m\u001b[0m\n",
            "\u001b[1;31mModuleNotFoundError\u001b[0m: No module named 'fasttext'"
          ]
        }
      ],
      "source": [
        "# the solution to the assignment has been obtained using these packages.\n",
        "# you're free to use other packages though: consider this as an indication, not a prescription.\n",
        "import nltk\n",
        "import numpy as np\n",
        "import pandas as pd\n",
        "import fasttext as ft\n",
        "import pickle as pkl\n",
        "import fasttext.util\n",
        "from tqdm import tqdm\n",
        "from collections import defaultdict\n",
        "from transformers import AutoTokenizer\n",
        "from psycho_embeddings import ContextualizedEmbedder\n",
        "\n",
        "## psycho_embeddings throws a problems about tensorflow versions, but these are the same as the lecture 5 notebook\n",
        "## so I assume they can be ignored"
      ]
    },
    {
      "cell_type": "markdown",
      "metadata": {
        "id": "Ra3phcRhKuuo"
      },
      "source": [
        "**Task 1** (*10 points available, see breakdown per task below*)\n",
        "\n",
        "You should replicate the main design in the paper *Valence without meaning* by Gatti and colleagues (2024), using estimates collected for Dutch word valence to train linear regression models and apply them to predict the valence of English pseudowords from Gatti and colleagues.\n",
        "\n",
        "In detail, to train your regression models, you should use the dataset by Speed and Brysbaert (2024) containing crowd-sourced valence ratings (use the metadata to identify the relevant columns) collected for approximately 24,000 Dutch words. See the paper *Ratings of valence, arousal, happiness, anger, fear, sadness, disgust, and surprise for 24,000 Dutch words* by Speed and Brysbaert (2024).\n",
        "\n",
        "You should train a letter unigram model and a bigram model. Each model should be trained on Dutch words only.\n",
        "\n",
        "Pay attention to one issue though: pseudowords created for English may be valid words in Dutch: therefore, you should first filter the list of pseudowords against a large store of Dutch words. To do so, use the words in the Dutch prevalence lexicon available in this OSF repository: https://osf.io/9zymw/. Essentially, you need to exclude any pseudoword that happens to be a word for which a prevalence estimate is available, whatever the prevalence is.\n",
        "\n",
        "Each code block indicates how many points are available and how they are attributed."
      ]
    },
    {
      "cell_type": "code",
      "execution_count": 4,
      "metadata": {
        "id": "Hrd4EhHlAcmi"
      },
      "outputs": [],
      "source": [
        "# read in the pseudowords from Gatti and colleagues, as well as the valence ratings for 24,000 Dutch words from Speed and Brysbaert (2024)\n",
        "# show the first 5 lines of each dataset.\n",
        "# 1 point for identifying the correct files and correctly loading their content"
      ]
    },
    {
      "cell_type": "code",
      "execution_count": 11,
      "metadata": {
        "colab": {
          "base_uri": "https://localhost:8080/",
          "height": 206
        },
        "id": "xx374lmMOEY_",
        "outputId": "8c42e3b4-def3-4cc0-a922-e1d9ff0900fd"
      },
      "outputs": [
        {
          "data": {
            "text/html": [
              "<div>\n",
              "<style scoped>\n",
              "    .dataframe tbody tr th:only-of-type {\n",
              "        vertical-align: middle;\n",
              "    }\n",
              "\n",
              "    .dataframe tbody tr th {\n",
              "        vertical-align: top;\n",
              "    }\n",
              "\n",
              "    .dataframe thead th {\n",
              "        text-align: right;\n",
              "    }\n",
              "</style>\n",
              "<table border=\"1\" class=\"dataframe\">\n",
              "  <thead>\n",
              "    <tr style=\"text-align: right;\">\n",
              "      <th></th>\n",
              "      <th>Word</th>\n",
              "      <th>Value1</th>\n",
              "      <th>Value2</th>\n",
              "    </tr>\n",
              "  </thead>\n",
              "  <tbody>\n",
              "    <tr>\n",
              "      <th>0</th>\n",
              "      <td>abhert</td>\n",
              "      <td>0.473009</td>\n",
              "      <td>0.406491</td>\n",
              "    </tr>\n",
              "    <tr>\n",
              "      <th>1</th>\n",
              "      <td>abhict</td>\n",
              "      <td>0.375453</td>\n",
              "      <td>0.472723</td>\n",
              "    </tr>\n",
              "    <tr>\n",
              "      <th>2</th>\n",
              "      <td>acleat</td>\n",
              "      <td>0.583840</td>\n",
              "      <td>0.496628</td>\n",
              "    </tr>\n",
              "    <tr>\n",
              "      <th>3</th>\n",
              "      <td>acmure</td>\n",
              "      <td>0.607354</td>\n",
              "      <td>0.597101</td>\n",
              "    </tr>\n",
              "    <tr>\n",
              "      <th>4</th>\n",
              "      <td>acoed</td>\n",
              "      <td>0.526847</td>\n",
              "      <td>0.551518</td>\n",
              "    </tr>\n",
              "  </tbody>\n",
              "</table>\n",
              "</div>"
            ],
            "text/plain": [
              "     Word    Value1    Value2\n",
              "0  abhert  0.473009  0.406491\n",
              "1  abhict  0.375453  0.472723\n",
              "2  acleat  0.583840  0.496628\n",
              "3  acmure  0.607354  0.597101\n",
              "4   acoed  0.526847  0.551518"
            ]
          },
          "execution_count": 11,
          "metadata": {},
          "output_type": "execute_result"
        }
      ],
      "source": [
        "## getting the pseudowords from Gatti -Frey\n",
        "\n",
        "## I am using a pandas dataframe (df)\n",
        "## pseudowords_Gatti is called comb_2 in the Rdata file\n",
        "\n",
        "df_Gatti = pd.read_csv(\"pseudowords_Gatti.csv\")\n",
        "del df_Gatti['Unnamed: 0']\n",
        "df_Gatti.head(5)"
      ]
    },
    {
      "cell_type": "code",
      "execution_count": 12,
      "metadata": {
        "colab": {
          "base_uri": "https://localhost:8080/",
          "height": 206
        },
        "id": "BgBEZuGeOEDH",
        "outputId": "9a606ec0-f229-49fb-9fde-8a3d3959758c"
      },
      "outputs": [
        {
          "data": {
            "text/html": [
              "<div>\n",
              "<style scoped>\n",
              "    .dataframe tbody tr th:only-of-type {\n",
              "        vertical-align: middle;\n",
              "    }\n",
              "\n",
              "    .dataframe tbody tr th {\n",
              "        vertical-align: top;\n",
              "    }\n",
              "\n",
              "    .dataframe thead th {\n",
              "        text-align: right;\n",
              "    }\n",
              "</style>\n",
              "<table border=\"1\" class=\"dataframe\">\n",
              "  <thead>\n",
              "    <tr style=\"text-align: right;\">\n",
              "      <th></th>\n",
              "      <th>List</th>\n",
              "      <th>Participant</th>\n",
              "      <th>Word</th>\n",
              "      <th>Valence</th>\n",
              "      <th>Unknown</th>\n",
              "      <th>RemoveParticipant</th>\n",
              "    </tr>\n",
              "  </thead>\n",
              "  <tbody>\n",
              "    <tr>\n",
              "      <th>0</th>\n",
              "      <td>Lijst 5</td>\n",
              "      <td>Lijst 5_PP1</td>\n",
              "      <td>aai</td>\n",
              "      <td>5.0</td>\n",
              "      <td>0</td>\n",
              "      <td>0</td>\n",
              "    </tr>\n",
              "    <tr>\n",
              "      <th>1</th>\n",
              "      <td>Lijst 5</td>\n",
              "      <td>Lijst 5_PP11</td>\n",
              "      <td>aai</td>\n",
              "      <td>3.0</td>\n",
              "      <td>0</td>\n",
              "      <td>0</td>\n",
              "    </tr>\n",
              "    <tr>\n",
              "      <th>2</th>\n",
              "      <td>Lijst 5</td>\n",
              "      <td>Lijst 5_PP12</td>\n",
              "      <td>aai</td>\n",
              "      <td>3.0</td>\n",
              "      <td>0</td>\n",
              "      <td>0</td>\n",
              "    </tr>\n",
              "    <tr>\n",
              "      <th>3</th>\n",
              "      <td>Lijst 5</td>\n",
              "      <td>Lijst 5_PP2</td>\n",
              "      <td>aai</td>\n",
              "      <td>3.0</td>\n",
              "      <td>0</td>\n",
              "      <td>0</td>\n",
              "    </tr>\n",
              "    <tr>\n",
              "      <th>4</th>\n",
              "      <td>Lijst 5</td>\n",
              "      <td>Lijst 5_PP3</td>\n",
              "      <td>aai</td>\n",
              "      <td>4.0</td>\n",
              "      <td>0</td>\n",
              "      <td>0</td>\n",
              "    </tr>\n",
              "  </tbody>\n",
              "</table>\n",
              "</div>"
            ],
            "text/plain": [
              "      List   Participant Word  Valence  Unknown  RemoveParticipant\n",
              "0  Lijst 5   Lijst 5_PP1  aai      5.0        0                  0\n",
              "1  Lijst 5  Lijst 5_PP11  aai      3.0        0                  0\n",
              "2  Lijst 5  Lijst 5_PP12  aai      3.0        0                  0\n",
              "3  Lijst 5   Lijst 5_PP2  aai      3.0        0                  0\n",
              "4  Lijst 5   Lijst 5_PP3  aai      4.0        0                  0"
            ]
          },
          "execution_count": 12,
          "metadata": {},
          "output_type": "execute_result"
        }
      ],
      "source": [
        "## Getting the word valence from Speed -Frey\n",
        "\n",
        "## I have uploaded the file as wordvalence_Speed.csv after I have saved \"All_Valence\" as a csv\n",
        "df_Speed = pd.read_csv(\"wordvalence_Speed.csv\")\n",
        "df_Speed.head(5)"
      ]
    },
    {
      "cell_type": "code",
      "execution_count": 7,
      "metadata": {
        "id": "As4XV-LQPbyH"
      },
      "outputs": [],
      "source": [
        "# filter out pseudowords that happen to be valid Dutch words (mind case folding!)\n",
        "# show the set of pseudowords filtered out.\n",
        "# 1 point for applying the correct filtering"
      ]
    },
    {
      "cell_type": "code",
      "execution_count": 14,
      "metadata": {
        "colab": {
          "base_uri": "https://localhost:8080/"
        },
        "id": "90j_UjCpZbWV",
        "outputId": "c5d3e57d-cce5-499a-db1e-c4b348ec2d21"
      },
      "outputs": [
        {
          "name": "stdout",
          "output_type": "stream",
          "text": [
            "900    pimpen\n",
            "Name: Word, dtype: object\n"
          ]
        }
      ],
      "source": [
        "## Combining the file for the prevalence of Dutch words and Belgian words -Frey\n",
        "df_prevalence_Netherlands = pd.read_csv(\"prevalence_netherlands.csv\" , sep = \"\\t\")\n",
        "df_prevalence_Belgium = pd.read_csv(\"prevalence_belgium.csv\", sep= \"\\t\")\n",
        "\n",
        "df_prevalence_combined = pd.concat([df_prevalence_Belgium, df_prevalence_Netherlands], join= \"outer\") #outer: takes union\n",
        "\n",
        "## Checking if they all have a prevalence value (they do)\n",
        "df_prevalence_combined_filtered = df_prevalence_combined[df_prevalence_combined[\"prevalence\"] != None]\n",
        "\n",
        "## Saving only the column with words as a Series\n",
        "df_Dutch_words = df_prevalence_combined_filtered.word\n",
        "df_Dutch_words = df_Dutch_words.drop_duplicates()\n",
        "\n",
        "## Saving only the column with pseudowords from pseudowords_Gatti as a Series\n",
        "df_pseudowords = df_Gatti.Word\n",
        "\n",
        "## Apply filtering here\n",
        "print(df_pseudowords[df_pseudowords.isin(df_Dutch_words)])\n",
        "df_pseudowords = df_pseudowords[~df_pseudowords.isin(df_Dutch_words)]"
      ]
    },
    {
      "cell_type": "code",
      "execution_count": 9,
      "metadata": {
        "id": "zvza9pb6MFgC"
      },
      "outputs": [],
      "source": [
        "# encode Dutch words and pseudowords from Gatti et al as uni- and bi-gram vectors\n",
        "# show the uni-gram and bi-gram encoding of the pseudoword ampgrair\n",
        "# 2 points for correctly encoding the target strings as uni- and bi-gram vectors"
      ]
    },
    {
      "cell_type": "code",
      "execution_count": 17,
      "metadata": {
        "id": "dGbSIqOcDww5"
      },
      "outputs": [],
      "source": [
        "## this is simplified code from the notebook of class one. Permission has been given to use it with the correct reference.\n",
        "\n",
        "def ngram_featurizer(s, n):\n",
        "\n",
        "    string_boundary = [\"letter\"]*(n-1)                        # necessary to encode features such as 'this string begins/ends with this specific symbol'\n",
        "    s = string_boundary + list(s) + string_boundary\n",
        "\n",
        "    return [tuple(s[i:i+n]) for i in range(len(s)-n+1)]       # this is where the n-gram featurization actually happens.\n"
      ]
    },
    {
      "cell_type": "code",
      "execution_count": null,
      "metadata": {
        "id": "3LQUMVSiungL"
      },
      "outputs": [],
      "source": [
        "## this is code from the notebook of class one. Permission has been given to use it with the correct reference.\n",
        "\n",
        "# This function encodes all tweets as frequency counts over n-grams\n",
        "def encode_corpus(corpus, n, mapping=None):\n",
        "\n",
        "    \"\"\"\n",
        "    Takes in\n",
        "      - a list of strings,\n",
        "      - an integer indicating the n-grams size,\n",
        "      - a dictionary mapping ngrams to numerical indices. If no dictionary is\n",
        "          passed, one is created inside the function.\n",
        "    The function outputs a 2d NumPy array with as many rows as there are strings in\n",
        "    the input list, and the mapping from ngrams to indices, representing the columns\n",
        "    of the NumPy array.\n",
        "    \"\"\"\n",
        "\n",
        "    if not mapping:\n",
        "        all_ngrams = set()\n",
        "        for instance in corpus:\n",
        "            # get a comprehensive set of all n-grams in the corpus\n",
        "            all_ngrams = all_ngrams.union(\n",
        "                set(ngram_featurizer(instance, n))\n",
        "                )\n",
        "\n",
        "        # map each n-gram to an integer which will index the feature matrix\n",
        "        mapping = {ngram: i for i, ngram in enumerate(sorted(all_ngrams))}\n",
        "\n",
        "    # create a feature matrix of the appropriate dimensionality\n",
        "    X = np.zeros((len(corpus), len(mapping)))\n",
        "    for i, instance in enumerate(corpus):\n",
        "        for ngram in ngram_featurizer(instance, n):\n",
        "            try:\n",
        "                # access the right column given the n-gram being processed\n",
        "                X[i, mapping[ngram]] += 1\n",
        "            except KeyError:\n",
        "                # if the current n-gram is new, skip it\n",
        "                pass\n",
        "\n",
        "    return X, mapping\n",
        "\n",
        "feature_matrix_unigram, mapping_unigram = encode_corpus(list(df_pseudowords), 1)\n",
        "feature_matrix_bigram, mapping_bigram = encode_corpus(list(df_pseudowords), 2)"
      ]
    },
    {
      "cell_type": "code",
      "execution_count": 12,
      "metadata": {
        "id": "OmY1BhuP0T5Y"
      },
      "outputs": [],
      "source": [
        "## WORK IN PROGRESS vv"
      ]
    },
    {
      "cell_type": "code",
      "execution_count": 34,
      "metadata": {
        "colab": {
          "base_uri": "https://localhost:8080/"
        },
        "id": "vJYkFr5qxbU8",
        "outputId": "6d1a3a38-741c-4a71-c093-aa40a1735f37"
      },
      "outputs": [
        {
          "name": "stdout",
          "output_type": "stream",
          "text": [
            "0       abhert\n",
            "1       abhict\n",
            "2       acleat\n",
            "3       acmure\n",
            "4        acoed\n",
            "         ...  \n",
            "1495     zauze\n",
            "1496     zerow\n",
            "1497      zilk\n",
            "1498    zohels\n",
            "1499    zokils\n",
            "Name: Word, Length: 1499, dtype: object\n"
          ]
        }
      ],
      "source": [
        "## trying to map all the items to their vector here (unsuccesfully)\n",
        "\n",
        "from functools import partial\n",
        "\n",
        "encode_corpus_unigram = partial(encode_corpus, n=1, mapping=mapping_unigram)\n",
        "# list_pseudowords_vectors = map(encode_corpus_unigram, df_pseudowords)\n",
        "\n",
        "# df_pseudowords.map(encode_corpus_unigram)\n",
        "\n",
        "print(df_pseudowords)"
      ]
    },
    {
      "cell_type": "code",
      "execution_count": 14,
      "metadata": {
        "id": "GwrMU0H0wlm9"
      },
      "outputs": [],
      "source": [
        "## testing that ampgrair can be encoded\n",
        "\n",
        "# feature_matrix_ampgrair_unigram, _ = encode_corpus(['ampgrair'], 1, mapping=mapping_unigram)\n",
        "# print(feature_matrix_ampgrair_unigram)\n",
        "\n",
        "# print(\"\")\n",
        "# feature_matrix_ampgrair_bigram, _ = encode_corpus(['ampgrair'], 2, mapping=mapping_bigram)\n",
        "# print(feature_matrix_ampgrair_bigram)"
      ]
    },
    {
      "cell_type": "code",
      "execution_count": 15,
      "metadata": {
        "id": "-w9-ySEuPp1Y"
      },
      "outputs": [],
      "source": [
        "# use word valence estimates from Speed and Brysbaert (2024) to train\n",
        "# - a uni-gram model\n",
        "# - a bi-gram model\n",
        "# 2 points for correctly trained models"
      ]
    },
    {
      "cell_type": "code",
      "execution_count": 16,
      "metadata": {
        "id": "6RG3aeRSPtLX"
      },
      "outputs": [],
      "source": [
        "# apply trained models to predict the valence of pseudowords from Gatti et al (2024).\n",
        "# Then apply the same models back onto the training set to see how well they predict the valence of words in Speed and Brysbaert (2024).\n",
        "# 2 points for correctly applied models"
      ]
    },
    {
      "cell_type": "code",
      "execution_count": 17,
      "metadata": {
        "id": "9aDwbajtPxze"
      },
      "outputs": [],
      "source": [
        "# compute the Spearman correlation coefficients between true valence and predicted valence under both uni- and bi-gram models for\n",
        "# - words from Speed and Brysbaert (2024)\n",
        "# - pseudowords from Gatti and colleagues (2024)\n",
        "# show both correlation coefficients.\n",
        "# 2 points for the correct Spearman correlation coefficients (rounded to the third decimal place)"
      ]
    },
    {
      "cell_type": "markdown",
      "metadata": {
        "id": "p0P1rNg5QoDn"
      },
      "source": [
        "**Task 2** (*8 points available, see breakdown below*)\n",
        "\n",
        "Again following Gatti and colleagues, you should encode the target strings (pseudowords and Dutch words from Speed and Brysbaert) as fastText embeddings, train a multiple regression model on Dutch words and apply it to the pseudowords in Gatti et al. You should finally report the Spearman correlation coefficient between observed and predicted valence for both words and pseudowords.\n",
        "\n",
        "You should use the pre-trained fastText model for Dutch, available at this page: https://fasttext.cc/docs/en/crawl-vectors.html\n",
        "\n",
        "Finally, you should answer two questions about the fastText model (see below)."
      ]
    },
    {
      "cell_type": "code",
      "execution_count": 18,
      "metadata": {
        "id": "pDeWgWUNAckd"
      },
      "outputs": [],
      "source": [
        "# load the fastText model\n",
        "# 1 point for correctly loading the appropriate fastText model"
      ]
    },
    {
      "cell_type": "markdown",
      "metadata": {
        "id": "rUD0VUJeRhr3"
      },
      "source": [
        "What is the dimensionality of the pre-trained Dutch fastText embeddings? (*1 point for the correct answer*)"
      ]
    },
    {
      "cell_type": "markdown",
      "metadata": {
        "id": "pgej4BPNRoUE"
      },
      "source": [
        "What minimum and maximum n-gram size was specified for training this fastText model? (*1 point for the correct answer*)"
      ]
    },
    {
      "cell_type": "code",
      "execution_count": 19,
      "metadata": {
        "id": "aW-XEksGR28U"
      },
      "outputs": [],
      "source": [
        "# encode Dutch words and pseudowords as fastText embeddings\n",
        "# show the first 20 values of the embedding of the word 'speelplaats' and of the pseudoword 'danchunk'\n",
        "# 2 points for correctly encoding words and pseudowords with fastText"
      ]
    },
    {
      "cell_type": "code",
      "execution_count": 20,
      "metadata": {
        "id": "3ePBth7cSAJU"
      },
      "outputs": [],
      "source": [
        "# train regression model on word valence\n",
        "# 1 point for correctly training the regression model"
      ]
    },
    {
      "cell_type": "code",
      "execution_count": 21,
      "metadata": {
        "id": "REJnnM2mSHHK"
      },
      "outputs": [],
      "source": [
        "# apply the trained model to predict the valence of pseudowords from Gatti et al (2024).\n",
        "# Then apply the same model back onto the training set to see how well it predicts the valence of words in Speed and Brysbaert (2024).\n",
        "# 1 point for correctly applied model"
      ]
    },
    {
      "cell_type": "code",
      "execution_count": 22,
      "metadata": {
        "id": "JIyyTyfHSKh5"
      },
      "outputs": [],
      "source": [
        "# compute the Spearman correlation coefficients between true valence and predicted valence for\n",
        "# - words from Speed and Brysbaert (2024)\n",
        "# - pseudowords from Gatti and colleagues (2024)\n",
        "# show the correlation coefficient.\n",
        "# 1 point for the correct Spearman correlation coefficients (rounded to the third decimal place)"
      ]
    },
    {
      "cell_type": "markdown",
      "metadata": {
        "id": "wnqKJ5XOSTbM"
      },
      "source": [
        "**Task 3** (*6 points available, see breakdown below*)\n",
        "\n",
        "Now you are asked to extend the work by Gatti et al by also considering the representations learned by a transformer-based models, in detail *RobBERT v2* (https://huggingface.co/pdelobelle/robbert-v2-dutch-base). You should follow the same pipeline as for the previous models, encoding both Dutch words from Speed and Brysbaert (2024) and the pseudowords from Gatti et al using the embedding of each string at layer 0, before positional information is factored in. If a string consists of multiple tokens, average the embeddings of all tokens to produce the embedding of the whole string. Then train a multiple regression model on the valence of Dutch words, apply it to the pseudowords, and compute the Spearman correlation between observed and predicted ratings.\n",
        "\n",
        "Use the HuggingFace model card for RobBERT v2 to check how to access it.\n",
        "\n",
        "I recommend saving the embeddings to file once you have generated them and you know they are correct: embedding thousands of strings takes some time, and you don't want to have to do it again. For the same reason, develop your code by considering only a small fractions of the words and pseudowords, in order to quickly see if something is wrong. Only when you are positive it works, embed all strings."
      ]
    },
    {
      "cell_type": "code",
      "execution_count": 23,
      "metadata": {
        "collapsed": true,
        "id": "Ppi-Zcp6i9Rn"
      },
      "outputs": [],
      "source": [
        "# load and instantiate the right model\n",
        "# 1 point for loading the right model"
      ]
    },
    {
      "cell_type": "code",
      "execution_count": 24,
      "metadata": {
        "id": "nGBaQgZqZzhw"
      },
      "outputs": [],
      "source": [
        "# encode the words and pseudowords using RobBERT v2. I've used the free GPU runtime on COLAB to speed things up,\n",
        "# but in this case you need to batch the words and pseudowords. You can use the function below to create batches\n",
        "# but you will have to pay attention at how you store embeddings.\n",
        "# show the first 20 values of the embedding of the word 'miauwen' and of the pseudoword 'lixthless'\n",
        "# 2 points for correctly encoding words and pseudowords\n",
        "\n",
        "def chunks(lst, n):\n",
        "\n",
        "    \"\"\"Chunks a list into equal chunks containing n elements. Returns a list of lists.\"\"\"\n",
        "\n",
        "    chunked = []\n",
        "    for i in range(0, len(lst), n):\n",
        "        chunked.append(lst[i:i + n])\n",
        "    return chunked\n"
      ]
    },
    {
      "cell_type": "code",
      "execution_count": 25,
      "metadata": {
        "id": "BFq3hHCDUPjL"
      },
      "outputs": [],
      "source": [
        "# train regression model on word valence estimates from Speed and Brysbaert (2024)\n",
        "# 1 point for correctly training the regression model"
      ]
    },
    {
      "cell_type": "code",
      "execution_count": 26,
      "metadata": {
        "id": "evaU9NAxUSoW"
      },
      "outputs": [],
      "source": [
        "# apply the trained model to predict the valence of pseudowords from Gatti et al (2024).\n",
        "# Then apply the same model back onto the training set to see how well it predicts the valence of words in Speed and Brysbaert (2024).\n",
        "# 1 point for correctly applied model"
      ]
    },
    {
      "cell_type": "code",
      "execution_count": 27,
      "metadata": {
        "id": "JVcuHS02UUPd"
      },
      "outputs": [],
      "source": [
        "# compute the Spearman correlation coefficients between true valence and predicted valence for\n",
        "# - words from Speed and Brysbaert (2024)\n",
        "# - pseudowords from Gatti and colleagues (2024)\n",
        "# show the correlation coefficient\n",
        "# 1 point for the correct Spearman correlation coefficients (rounded to the third decimal place)"
      ]
    },
    {
      "cell_type": "markdown",
      "metadata": {
        "id": "DfWX1QTfB172"
      },
      "source": [
        "**Task 4** (*16 points available, 4 for each question*)\n",
        "\n",
        "Answer the following questions.\n",
        "\n",
        "**4a.** Describe the performance of each featurization, comparing\n",
        "- the performance of a same model between the training and test set\n",
        "- the performance of different models on the training set\n",
        "- the performance of different models on the test set\n",
        "\n",
        "(*4 points available, max 150 words*)"
      ]
    },
    {
      "cell_type": "markdown",
      "metadata": {
        "id": "EONmoGe8CAyI"
      },
      "source": [
        "*type your answer here*"
      ]
    },
    {
      "cell_type": "markdown",
      "metadata": {
        "id": "GpkgvOqeB6jH"
      },
      "source": [
        "**4b.** Compare the correlations you found when training uni-gram, bi-gram, and fastText models on Dutch words and the correlations of similar models trained on English data as reported by Gatti and colleagues; summarize the most important similarities and differences.\n",
        "\n",
        "(*4 points available, max 150 words*)"
      ]
    },
    {
      "cell_type": "markdown",
      "metadata": {
        "id": "Vv7P2zvnCBiX"
      },
      "source": [
        "*type your answer here*"
      ]
    },
    {
      "cell_type": "markdown",
      "metadata": {
        "id": "GQ2SxrYHy3Hx"
      },
      "source": [
        "**4c.** Do you think the performance of the fastText featurization would change if you were to use different n-grams? Would you make them smaller or larger? Justify your answer.\n",
        "\n",
        "(*4 points available, max 150 words*)"
      ]
    },
    {
      "cell_type": "markdown",
      "metadata": {
        "id": "-M-lvw2qVjNH"
      },
      "source": [
        "*type your answer here*"
      ]
    },
    {
      "cell_type": "markdown",
      "metadata": {
        "id": "5_-zN3Vp2OBD"
      },
      "source": [
        "**4d.** Do you think that training the same models on uni-grams, bi-grams, fastText and transformer-based embeddings but using valence ratings for Finnish (a language which uses the same alphabet as English but is not a IndoEuropean language) words would yield a similar pattern of results? Justify your answer.\n",
        "\n",
        "(*4 points available, max 150 words*)"
      ]
    },
    {
      "cell_type": "markdown",
      "metadata": {
        "id": "20T-4kCdVppE"
      },
      "source": [
        "*type your answer here*"
      ]
    },
    {
      "cell_type": "markdown",
      "metadata": {
        "id": "w4ILTPziXptK"
      },
      "source": [
        "**Task 5** (*3 points available*)\n",
        "\n",
        "Compute the average Levenshtein Distance (aLD) between each pseudoword and the 20 words at the smallest edit distance from it. Consider the set of words you used to filter out pseudowords that happen to be valid Dutch words (the file is available in this OSF repository: https://osf.io/9zymw/) to retrieve the 20 words at the smallest edit distance."
      ]
    },
    {
      "cell_type": "code",
      "execution_count": 28,
      "metadata": {
        "id": "OGks7N-JCjFu"
      },
      "outputs": [],
      "source": [
        "# compute the average Levenshtein distance from each pseudoword to the words used to filter out pseudowords.\n",
        "# Show the aLD estimate for the pseudowords 'nedukes', 'pewbin', and 'vibcines'\n",
        "# 3 points for correctly computing aLD for pseudowords"
      ]
    },
    {
      "cell_type": "markdown",
      "metadata": {
        "id": "zBdwMhHsYY0j"
      },
      "source": [
        "**Task 6** (*3 points available*)\n",
        "\n",
        "For each pseudoword, record the number of tokens in which RobBERT v2 encodes it."
      ]
    },
    {
      "cell_type": "code",
      "execution_count": 29,
      "metadata": {
        "collapsed": true,
        "id": "FDOechQfmvqE"
      },
      "outputs": [],
      "source": [
        "# record the number of tokens in which RobBERT divides each pseudoword\n",
        "# show the number of tokens for the pseudowords 'yuxwas', 'skibfy', and 'errords'\n",
        "# 3 points for correctly mapping pseudowords to number of tokens"
      ]
    },
    {
      "cell_type": "markdown",
      "metadata": {
        "id": "H9LxipdMYqXN"
      },
      "source": [
        "**Task 7** (*5 points available, see breakdown below*)\n",
        "\n",
        "Compute the residuals of the predicted valence under the four regressors trained and applied in tasks 2 to 4. Then, correlate the residuals from all four models with aLD. Finally, correlate the residuals from the RobBERT v2 model with the number of tokens in which each pseudoword is split. Use the Pearson's correlation coefficient."
      ]
    },
    {
      "cell_type": "code",
      "execution_count": 30,
      "metadata": {
        "id": "dc2p7UXSCi-q"
      },
      "outputs": [],
      "source": [
        "# compute the residuals from all four regression models fitted before\n",
        "# 1 point available for correctly computing residuals"
      ]
    },
    {
      "cell_type": "code",
      "execution_count": 31,
      "metadata": {
        "id": "KkqJLI17C0Ml"
      },
      "outputs": [],
      "source": [
        "# compute the Pearson's correlation between residuals and average LD for all models,\n",
        "# as well as the correlation between RobBERT v2 residuals and the number of tokens in which each pseudoword\n",
        "#    is encoded by the RobBERT v2 model.\n",
        "# show all correlation coefficients\n",
        "# 4 points for the correct correlation coefficients"
      ]
    },
    {
      "cell_type": "markdown",
      "metadata": {
        "id": "6owroLfAC4vf"
      },
      "source": [
        "**Task 8** What is the relation between the errors each model made and aLD? what about the number of tokens (limited to the RobBERT v2 model)?\n",
        "\n",
        "(*4 points available, max 150 words*)"
      ]
    },
    {
      "cell_type": "markdown",
      "metadata": {
        "id": "LvaOAjqxuHgm"
      },
      "source": [
        "*testo in corsivo*"
      ]
    }
  ],
  "metadata": {
    "accelerator": "GPU",
    "colab": {
      "gpuType": "T4",
      "provenance": []
    },
    "kernelspec": {
      "display_name": "Python 3",
      "name": "python3"
    },
    "language_info": {
      "codemirror_mode": {
        "name": "ipython",
        "version": 3
      },
      "file_extension": ".py",
      "mimetype": "text/x-python",
      "name": "python",
      "nbconvert_exporter": "python",
      "pygments_lexer": "ipython3",
      "version": "3.7.9"
    }
  },
  "nbformat": 4,
  "nbformat_minor": 0
}
